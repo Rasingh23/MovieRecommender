{
  "nbformat": 4,
  "nbformat_minor": 0,
  "metadata": {
    "colab": {
      "name": "MovieRecommender.ipynb",
      "provenance": [],
      "collapsed_sections": []
    },
    "kernelspec": {
      "name": "python3",
      "display_name": "Python 3"
    }
  },
  "cells": [
    {
      "cell_type": "markdown",
      "metadata": {
        "id": "60oKZy3HbmNF",
        "colab_type": "text"
      },
      "source": [
        "First Attempt at a Simple and Content Based Movie Recommender System using a dataset from\n",
        "\n",
        "https://www.kaggle.com/stefanoleone992/rotten-tomatoes-movies-and-critics-datasets/download\n",
        "\n",
        "The following are the steps involved:\n",
        "\n",
        "- Decide on the metric or score to rate movies on.\n",
        "- Calculate the score for every movie.\n",
        "- Sort the movies based on the score and output the top results."
      ]
    },
    {
      "cell_type": "code",
      "metadata": {
        "id": "DXkAblLM8PyQ",
        "colab_type": "code",
        "colab": {}
      },
      "source": [
        "import pandas as pd\n",
        "\n",
        "#Load data\n",
        "metadata = pd.read_csv('../movies_dsc/rottentomatoes/data/rotten_tomatoes_movies.csv', low_memory=False)"
      ],
      "execution_count": 0,
      "outputs": []
    },
    {
      "cell_type": "code",
      "metadata": {
        "id": "6IPMm8MBbAQe",
        "colab_type": "code",
        "colab": {}
      },
      "source": [
        "# v is the number of votes for the movie;\n",
        "# m is the minimum votes required to be listed in the chart;\n",
        "# R is the average rating of the movie; And\n",
        "# C is the mean vote across the whole report\n",
        "\n",
        "C = metadata['audience_rating'].mean()\n",
        "# print(C)\n",
        "m = metadata['audience_count'].quantile(0.90)\n",
        "# print(m)\n",
        "q_movies = metadata.copy().loc[metadata['audience_count'] >= m]\n",
        "# q_movies.shape\n",
        "\n",
        "\n"
      ],
      "execution_count": 0,
      "outputs": []
    },
    {
      "cell_type": "code",
      "metadata": {
        "id": "WpFSfgzrcOlh",
        "colab_type": "code",
        "colab": {}
      },
      "source": [
        "def weighted_rating(x, m=m, C=C):\n",
        "    v = x['audience_count']\n",
        "    R = x['audience_rating']\n",
        "    # Calculation based on the IMDB formula\n",
        "    return (v/(v+m) * R) + (m/(m+v) * C)\n",
        "\n",
        "# Define a new feature 'score' and calculate its value with `weighted_rating()`\n",
        "q_movies['score'] = q_movies.apply(weighted_rating, axis=1)\n",
        "#Sort movies based on score calculated above\n",
        "q_movies = q_movies.sort_values('score', ascending=False)\n",
        "#Print the top 15 movies\n",
        "# q_movies[['movie_title', 'audience_count', 'audience_rating', 'score']].head(15)"
      ],
      "execution_count": 0,
      "outputs": []
    },
    {
      "cell_type": "code",
      "metadata": {
        "id": "Pgy1JWyeduQq",
        "colab_type": "code",
        "colab": {}
      },
      "source": [
        "#Print plot overviews of the first 5 movies.\n",
        "\n",
        "\n",
        "#Import TfIdfVectorizer from scikit-learn\n",
        "from sklearn.feature_extraction.text import TfidfVectorizer\n",
        "\n",
        "#Define a TF-IDF Vectorizer Object. Remove all english stop words such as 'the', 'a'\n",
        "tfidf = TfidfVectorizer(stop_words='english')\n",
        "\n",
        "#Replace NaN with an empty string\n",
        "metadata['movie_info'] = metadata['movie_info'].fillna('')\n",
        "\n",
        "#Construct the required TF-IDF matrix by fitting and transforming the data\n",
        "tfidf_matrix = tfidf.fit_transform(metadata['movie_info'])\n",
        "\n",
        "#Output the shape of tfidf_matrix\n",
        "# tfidf.shape"
      ],
      "execution_count": 0,
      "outputs": []
    },
    {
      "cell_type": "code",
      "metadata": {
        "id": "2JqMMFijdvFH",
        "colab_type": "code",
        "colab": {}
      },
      "source": [
        "from sklearn.metrics.pairwise import linear_kernel\n",
        "\n",
        "# Compute the cosine similarity matrix\n",
        "cosine_sim = linear_kernel(tfidf_matrix, tfidf_matrix)\n",
        "\n",
        "#Construct a reverse map of indices and movie titles\n",
        "indices = pd.Series(metadata.index, index=metadata['movie_title']).drop_duplicates()\n",
        "\n",
        "# indices.shape"
      ],
      "execution_count": 0,
      "outputs": []
    },
    {
      "cell_type": "code",
      "metadata": {
        "id": "VHofw9MouHaO",
        "colab_type": "code",
        "colab": {}
      },
      "source": [
        "def get_list(x):\n",
        "  temp = x\n",
        "  if str(x).count(\",\") > 2:\n",
        "   temp = x.split(\",\")\n",
        "   print(temp)\n",
        "   temp = temp[0] + ',' + temp[1] + ',' + temp[2]\n",
        "   print(temp)\n",
        "  return temp\n"
      ],
      "execution_count": 0,
      "outputs": []
    },
    {
      "cell_type": "code",
      "metadata": {
        "id": "jk2H-E2sui2u",
        "colab_type": "code",
        "colab": {}
      },
      "source": [
        "features = ['cast', 'genre']\n",
        "for feature in features:\n",
        "    # print(\"FEATURE: \",feature, \" \", metadata[feature], \" || \",metadata['cast'])\n",
        "    metadata[feature] = metadata[feature].apply(get_list)"
      ],
      "execution_count": 0,
      "outputs": []
    },
    {
      "cell_type": "code",
      "metadata": {
        "id": "oCIHNuEjVVt-",
        "colab_type": "code",
        "colab": {}
      },
      "source": [
        "def clean_data(x):\n",
        "    if isinstance(x, list):\n",
        "        return [str.lower(i.replace(\" \", \"\")) for i in x]\n",
        "    else:\n",
        "        #Check if director exists. If not, return empty string\n",
        "        if isinstance(x, str):\n",
        "            return str.lower(x.replace(\" \", \"\"))\n",
        "        else:\n",
        "            return ''"
      ],
      "execution_count": 0,
      "outputs": []
    },
    {
      "cell_type": "code",
      "metadata": {
        "id": "ODmuw7OgVZ-N",
        "colab_type": "code",
        "colab": {}
      },
      "source": [
        "features = ['cast', 'directors', 'genre']\n",
        "\n",
        "for feature in features:\n",
        "    metadata[feature] = metadata[feature].apply(clean_data)\n",
        "\n",
        "def create_soup(x):\n",
        "    return ' '.join(x['cast']) + ' ' + x['directors'] + ' ' + ' '.join(x['genre'])\n",
        "# Create a new soup feature\n",
        "metadata['soup'] = metadata.apply(create_soup, axis=1)\n"
      ],
      "execution_count": 0,
      "outputs": []
    },
    {
      "cell_type": "code",
      "metadata": {
        "id": "fZGp6hJ5Vu91",
        "colab_type": "code",
        "colab": {}
      },
      "source": [
        "# Import CountVectorizer and create the count matrix\n",
        "from sklearn.feature_extraction.text import CountVectorizer\n",
        "\n",
        "count = CountVectorizer(stop_words='english')\n",
        "count_matrix = count.fit_transform(metadata['soup'])\n",
        "# Compute the Cosine Similarity matrix based on the count_matrix\n",
        "from sklearn.metrics.pairwise import cosine_similarity\n",
        "\n",
        "cosine_sim2 = cosine_similarity(count_matrix, count_matrix)\n",
        "# Reset index of your main DataFrame and construct reverse mapping as before\n",
        "metadata = metadata.reset_index()\n",
        "indices = pd.Series(metadata.index, index=metadata['movie_title'])"
      ],
      "execution_count": 0,
      "outputs": []
    },
    {
      "cell_type": "code",
      "metadata": {
        "id": "V8juW0WUpCA6",
        "colab_type": "code",
        "colab": {}
      },
      "source": [
        "\n",
        "# Function that takes in movie title as input and outputs most similar movies\n",
        "def get_recommendations(title, cosine_sim=cosine_sim):\n",
        "    # Get the index of the movie that matches the title\n",
        "    idx = indices[title]\n",
        "    # Get the pairwsie similarity scores of all movies with that movie\n",
        "    sim_scores = list(enumerate(cosine_sim[idx]))\n",
        "    # Sort the movies based on the similarity scores\n",
        "    sim_scores = sorted(sim_scores, key=lambda x: x[1], reverse=True)\n",
        "    # Get the scores of the n most similar movies\n",
        "    sim_scores = sim_scores[1:51]\n",
        "    # Get the movie indices\n",
        "    movie_indices = [i[0] for i in sim_scores]\n",
        "    #randomize order of titles so different output is generated\n",
        "    import  random\n",
        "    random.shuffle(movie_indices)\n",
        "    #cut newly ordered list down to 10 from n \n",
        "    movie_indices = movie_indices[:len(movie_indices)-40]\n",
        "    # Return the top 10 most similar movies\n",
        "    return metadata[['movie_title', 'in_theaters_date', 'audience_rating', 'tomatometer_rating', 'cast']].iloc[movie_indices]"
      ],
      "execution_count": 0,
      "outputs": []
    },
    {
      "cell_type": "code",
      "metadata": {
        "id": "f_ya0TwaV3Gl",
        "colab_type": "code",
        "colab": {}
      },
      "source": [
        "get_recommendations('The Dark Knight Rises', cosine_sim2)"
      ],
      "execution_count": 0,
      "outputs": []
    }
  ]
}